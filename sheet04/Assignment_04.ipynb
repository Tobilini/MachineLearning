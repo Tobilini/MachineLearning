{
 "cells": [
  {
   "cell_type": "code",
   "execution_count": 1,
   "metadata": {
    "executionInfo": {
     "elapsed": 1857,
     "status": "ok",
     "timestamp": 1731004992958,
     "user": {
      "displayName": "taravat part",
      "userId": "08819793569330919526"
     },
     "user_tz": -60
    },
    "id": "XPtHhW1Y7w-J"
   },
   "outputs": [],
   "source": [
    "import pandas as pd\n",
    "import matplotlib.pyplot as plt\n",
    "import seaborn as sns\n",
    "import numpy as np"
   ]
  },
  {
   "cell_type": "markdown",
   "metadata": {},
   "source": [
    "2.1\n",
    "no it is not linear separable, as all the points are on one line! A hyperplane of a line is a point. there is no point that splits the data."
   ]
  },
  {
   "cell_type": "code",
   "execution_count": 2,
   "metadata": {},
   "outputs": [
    {
     "data": {
      "text/plain": [
       "<Figure size 720x360 with 0 Axes>"
      ]
     },
     "execution_count": 2,
     "metadata": {},
     "output_type": "execute_result"
    },
    {
     "data": {
      "image/png": "[encoded data removed]",
      "text/plain": [
       "<Figure size 432x288 with 1 Axes>"
      ]
     },
     "metadata": {
      "needs_background": "light"
     },
     "output_type": "display_data"
    },
    {
     "data": {
      "text/plain": [
       "<Figure size 720x360 with 0 Axes>"
      ]
     },
     "metadata": {},
     "output_type": "display_data"
    }
   ],
   "source": [
    "x_1 = [-3,-2,-1,0,1,2,3]\n",
    "y_1 = [-1,-1, -1,1,1,-1,-1]\n",
    "\n",
    "x_2 = [-3, -2, -1, 2, 3]\n",
    "x_2_2 = [9,4,1,4,9]\n",
    "x_3 = [0, 1]\n",
    "x_3_2 = [0, 1]\n",
    "plt.plot(x_2, np.zeros(len(x_2)),'x', label = '-1')\n",
    "plt.plot(x_3, np.zeros(len(x_3)),\"x\", label = '1')\n",
    "plt.legend()\n",
    "plt.figure(figsize=(10,5))"
   ]
  },
  {
   "cell_type": "code",
   "execution_count": 3,
   "metadata": {},
   "outputs": [
    {
     "name": "stdout",
     "output_type": "stream",
     "text": [
      "The output for the given x_k is,  2.368033988749895\n"
     ]
    },
    {
     "data": {
      "text/plain": [
       "<matplotlib.legend.Legend at 0x7f8069a870a0>"
      ]
     },
     "execution_count": 3,
     "metadata": {},
     "output_type": "execute_result"
    },
    {
     "data": {
      "image/png": "[encoded data removed]",
      "text/plain": [
       "<Figure size 720x360 with 1 Axes>"
      ]
     },
     "metadata": {
      "needs_background": "light"
     },
     "output_type": "display_data"
    }
   ],
   "source": [
    "def fct(w1, w2, b, x):\n",
    "    return w1 * x + w2 * x**2 + b\n",
    "\n",
    "plt.figure(figsize=(10,5))\n",
    "\n",
    "x_2 = [-3, -2, -1, 2, 3]\n",
    "x_2_2 = [9, 4, 1, 4, 9]\n",
    "x_3 = [0, 1]\n",
    "x_3_2 = [0, 1]\n",
    "x_k = (1 + (5) ** (1/2)) / 2\n",
    "x = np.linspace(-3,3,100)\n",
    "print(\"The output for the given x_k is, \", fct(1, 0, 0.75, x_k))\n",
    "\n",
    "plt.plot(x, fct(1, 0, 0.75, x))\n",
    "plt.plot(x_2, x_2_2, 'x', label= \"-1\")\n",
    "plt.plot(x_3, x_3_2, 'x', label= \"1\")\n",
    "plt.plot(x_k, x_k ** 2, 'x',label='x_k')\n",
    "plt.plot(x, fct(1, 0, 0.75, x))\n",
    "plt.legend()\n"
   ]
  },
  {
   "cell_type": "markdown",
   "metadata": {},
   "source": [
    "Yes the Set is now linear separable!.\n",
    "\n",
    "If yes, find a\n",
    "separating hyperplane ⟨𝒘, 𝒙⟩ + 𝑏 = 0, compute its parameters1 and plot\n",
    "it.\n",
    "\n",
    "(1,0) * (x,x^2) + b = 0 \n",
    "\n",
    "\n",
    "hyperplane:\n",
    "w*x+b = 0\n",
    "\n",
    "w = 1\n",
    "b = 0.75\n",
    "\n",
    "Using this parametrization for the line, we classify the point to belong to the classification -1.\n"
   ]
  },
  {
   "cell_type": "code",
   "execution_count": null,
   "metadata": {},
   "outputs": [],
   "source": []
  },
  {
   "cell_type": "markdown",
   "metadata": {
    "id": "JyHJauePjJM7"
   },
   "source": [
    "# 3.1. Dataset Preprocessing"
   ]
  },
  {
   "cell_type": "markdown",
   "metadata": {
    "id": "uB_kl8WF7_iU"
   },
   "source": [
    "## Understanding the Dataset"
   ]
  },
  {
   "cell_type": "code",
   "execution_count": 4,
   "metadata": {
    "colab": {
     "base_uri": "https://localhost:8080/",
     "height": 206
    },
    "executionInfo": {
     "elapsed": 28,
     "status": "ok",
     "timestamp": 1731004992959,
     "user": {
      "displayName": "taravat part",
      "userId": "08819793569330919526"
     },
     "user_tz": -60
    },
    "id": "DgWFsUZHSeuQ",
    "outputId": "f4beacbc-8517-400c-dff4-e3fd98e984b3"
   },
   "outputs": [
    {
     "data": {
      "text/html": [
       "<div>\n",
       "<style scoped>\n",
       "    .dataframe tbody tr th:only-of-type {\n",
       "        vertical-align: middle;\n",
       "    }\n",
       "\n",
       "    .dataframe tbody tr th {\n",
       "        vertical-align: top;\n",
       "    }\n",
       "\n",
       "    .dataframe thead th {\n",
       "        text-align: right;\n",
       "    }\n",
       "</style>\n",
       "<table border=\"1\" class=\"dataframe\">\n",
       "  <thead>\n",
       "    <tr style=\"text-align: right;\">\n",
       "      <th></th>\n",
       "      <th>Pregnancies</th>\n",
       "      <th>Glucose</th>\n",
       "      <th>BloodPressure</th>\n",
       "      <th>SkinThickness</th>\n",
       "      <th>Insulin</th>\n",
       "      <th>BMI</th>\n",
       "      <th>DiabetesPedigreeFunction</th>\n",
       "      <th>Age</th>\n",
       "      <th>Outcome</th>\n",
       "    </tr>\n",
       "  </thead>\n",
       "  <tbody>\n",
       "    <tr>\n",
       "      <th>0</th>\n",
       "      <td>6</td>\n",
       "      <td>148</td>\n",
       "      <td>72</td>\n",
       "      <td>35.0</td>\n",
       "      <td>0</td>\n",
       "      <td>33.6</td>\n",
       "      <td>0.627</td>\n",
       "      <td>50</td>\n",
       "      <td>1</td>\n",
       "    </tr>\n",
       "    <tr>\n",
       "      <th>1</th>\n",
       "      <td>1</td>\n",
       "      <td>85</td>\n",
       "      <td>66</td>\n",
       "      <td>29.0</td>\n",
       "      <td>0</td>\n",
       "      <td>26.6</td>\n",
       "      <td>0.351</td>\n",
       "      <td>31</td>\n",
       "      <td>0</td>\n",
       "    </tr>\n",
       "    <tr>\n",
       "      <th>2</th>\n",
       "      <td>8</td>\n",
       "      <td>183</td>\n",
       "      <td>64</td>\n",
       "      <td>0.0</td>\n",
       "      <td>0</td>\n",
       "      <td>23.3</td>\n",
       "      <td>0.672</td>\n",
       "      <td>32</td>\n",
       "      <td>1</td>\n",
       "    </tr>\n",
       "    <tr>\n",
       "      <th>3</th>\n",
       "      <td>1</td>\n",
       "      <td>89</td>\n",
       "      <td>66</td>\n",
       "      <td>23.0</td>\n",
       "      <td>94</td>\n",
       "      <td>28.1</td>\n",
       "      <td>0.167</td>\n",
       "      <td>21</td>\n",
       "      <td>0</td>\n",
       "    </tr>\n",
       "    <tr>\n",
       "      <th>4</th>\n",
       "      <td>0</td>\n",
       "      <td>137</td>\n",
       "      <td>40</td>\n",
       "      <td>35.0</td>\n",
       "      <td>168</td>\n",
       "      <td>43.1</td>\n",
       "      <td>2.288</td>\n",
       "      <td>33</td>\n",
       "      <td>1</td>\n",
       "    </tr>\n",
       "  </tbody>\n",
       "</table>\n",
       "</div>"
      ],
      "text/plain": [
       "   Pregnancies  Glucose  BloodPressure  SkinThickness  Insulin   BMI  \\\n",
       "0            6      148             72           35.0        0  33.6   \n",
       "1            1       85             66           29.0        0  26.6   \n",
       "2            8      183             64            0.0        0  23.3   \n",
       "3            1       89             66           23.0       94  28.1   \n",
       "4            0      137             40           35.0      168  43.1   \n",
       "\n",
       "   DiabetesPedigreeFunction  Age  Outcome  \n",
       "0                     0.627   50        1  \n",
       "1                     0.351   31        0  \n",
       "2                     0.672   32        1  \n",
       "3                     0.167   21        0  \n",
       "4                     2.288   33        1  "
      ]
     },
     "execution_count": 4,
     "metadata": {},
     "output_type": "execute_result"
    }
   ],
   "source": [
    "# Read the dataset\n",
    "dataset = pd.read_csv('diabetes.csv')\n",
    "dataset.head()"
   ]
  },
  {
   "cell_type": "code",
   "execution_count": 5,
   "metadata": {
    "colab": {
     "base_uri": "https://localhost:8080/"
    },
    "executionInfo": {
     "elapsed": 25,
     "status": "ok",
     "timestamp": 1731004992959,
     "user": {
      "displayName": "taravat part",
      "userId": "08819793569330919526"
     },
     "user_tz": -60
    },
    "id": "I1YqdsqlQxRA",
    "outputId": "8d92cb43-dfcb-4107-fedb-4459dd105d69"
   },
   "outputs": [
    {
     "name": "stdout",
     "output_type": "stream",
     "text": [
      "number of samples in the dataset 768\n",
      "number of features in the dataset 8\n"
     ]
    }
   ],
   "source": [
    "print('number of samples in the dataset',dataset.shape[0])\n",
    "print('number of features in the dataset',dataset.shape[1]-1)"
   ]
  },
  {
   "cell_type": "code",
   "execution_count": 6,
   "metadata": {
    "colab": {
     "base_uri": "https://localhost:8080/"
    },
    "executionInfo": {
     "elapsed": 23,
     "status": "ok",
     "timestamp": 1731004992959,
     "user": {
      "displayName": "taravat part",
      "userId": "08819793569330919526"
     },
     "user_tz": -60
    },
    "id": "MVQmwDZTXBNH",
    "outputId": "299508f3-7e78-4e0c-8086-7568ef221a6a"
   },
   "outputs": [
    {
     "name": "stdout",
     "output_type": "stream",
     "text": [
      "<class 'pandas.core.frame.DataFrame'>\n",
      "RangeIndex: 768 entries, 0 to 767\n",
      "Data columns (total 9 columns):\n",
      " #   Column                    Non-Null Count  Dtype  \n",
      "---  ------                    --------------  -----  \n",
      " 0   Pregnancies               768 non-null    int64  \n",
      " 1   Glucose                   768 non-null    int64  \n",
      " 2   BloodPressure             768 non-null    int64  \n",
      " 3   SkinThickness             762 non-null    float64\n",
      " 4   Insulin                   768 non-null    int64  \n",
      " 5   BMI                       763 non-null    float64\n",
      " 6   DiabetesPedigreeFunction  768 non-null    float64\n",
      " 7   Age                       768 non-null    int64  \n",
      " 8   Outcome                   768 non-null    int64  \n",
      "dtypes: float64(3), int64(6)\n",
      "memory usage: 54.1 KB\n"
     ]
    }
   ],
   "source": [
    "dataset.info()"
   ]
  },
  {
   "cell_type": "markdown",
   "metadata": {
    "id": "l2JEcm0raIcQ"
   },
   "source": [
    "## Handling missing values in the dataset\n",
    "Missing values represent incomplete information in a dataset. Removing null values ensures that the dataset is complete and ready for analysis or modeling. It prevents errors in machine learning models, which typically cannot handle missing data. There are various techniques to handle missing values in a dataset:\n",
    "\n",
    "\n",
    "1.   Deleting rows with missing values\n",
    "2.   Imputation techniques: Replacing the missong value with the mean, mode or median of the non-missing values in the respective feature.\n",
    "\n",
    "choose one of the above methods to handle missing values in the dataset.\n",
    "\n"
   ]
  },
  {
   "cell_type": "code",
   "execution_count": 7,
   "metadata": {
    "colab": {
     "base_uri": "https://localhost:8080/"
    },
    "executionInfo": {
     "elapsed": 406,
     "status": "ok",
     "timestamp": 1731146472940,
     "user": {
      "displayName": "taravat part",
      "userId": "08819793569330919526"
     },
     "user_tz": -60
    },
    "id": "ONhR4X18TAm7",
    "outputId": "63fb6992-e179-4c4d-ed14-8131c127fbd3"
   },
   "outputs": [
    {
     "name": "stdout",
     "output_type": "stream",
     "text": [
      "Pregnancies                 0\n",
      "Glucose                     0\n",
      "BloodPressure               0\n",
      "SkinThickness               6\n",
      "Insulin                     0\n",
      "BMI                         5\n",
      "DiabetesPedigreeFunction    0\n",
      "Age                         0\n",
      "Outcome                     0\n",
      "dtype: int64\n",
      "\n",
      "Count of null values in each column before removing:\n",
      "Pregnancies                 0\n",
      "Glucose                     0\n",
      "BloodPressure               0\n",
      "SkinThickness               6\n",
      "Insulin                     0\n",
      "BMI                         5\n",
      "DiabetesPedigreeFunction    0\n",
      "Age                         0\n",
      "Outcome                     0\n",
      "dtype: int64\n",
      "\n",
      "Count of null values in each column after removing:\n",
      "Pregnancies                 0\n",
      "Glucose                     0\n",
      "BloodPressure               0\n",
      "SkinThickness               0\n",
      "Insulin                     0\n",
      "BMI                         0\n",
      "DiabetesPedigreeFunction    0\n",
      "Age                         0\n",
      "Outcome                     0\n",
      "dtype: int64\n"
     ]
    }
   ],
   "source": [
    "# Step 1: Print the count of null values in each column before removing\n",
    "print(\"\\nCount of null values in each column before removing:\")\n",
    "print(dataset.isnull().sum())\n",
    "\n",
    "# Step 2: Remove rows with null values\n",
    "dataset_cleaned = dataset.dropna()\n",
    "\n",
    "# Step 3: Print the count of null values in each column after removing\n",
    "print(\"\\nCount of null values in each column after removing:\")\n",
    "print(dataset_cleaned.isnull().sum())\n",
    "\n",
    "\n",
    "# Now proceed with the cleaned dataset in the following.\n",
    "dataset = dataset_cleaned\n"
   ]
  },
  {
   "cell_type": "markdown",
   "metadata": {
    "id": "UPfEXSlocBUe"
   },
   "source": [
    "## Handling outliers in the dataset\n",
    "An outlier is a data point that differs significantly from the majority of other points in a dataset. It is an unusually high or low value. In Particular,The SVM algorith is sensitive to outliers.The sensitivity of SVM to outliers stems from its reliance on support vectors to define the optimal hyperplane. Thus, outliers can substantially skew the positioning of the hyperplane. there are various methods to handle outliers. In this exercise, we want to first utilize box-plot based methods to visualize the data and identify the outliers. Then we will use IQR to remove the outliers. in the following paragraphs, we will explain these methods in detail.\n",
    "\n",
    "\n"
   ]
  },
  {
   "cell_type": "markdown",
   "metadata": {
    "id": "zLHq7-uqfCPy"
   },
   "source": [
    "**Understanding the Boxplot structure:**\n",
    "A boxplot summarizes the distribution of data by showing the minimum, first quartile (Q1), median (Q2), third quartile (Q3), and maximum values. It provides a clear visualization of the spread and skewness of the data, and any points lying outside the “whiskers” are considered potential outliers.\n"
   ]
  },
  {
   "cell_type": "markdown",
   "metadata": {
    "id": "rrZ-eBo5fGcw"
   },
   "source": [
    "Lets display the boxplots for features in the dataset and identify the outliers:"
   ]
  },
  {
   "cell_type": "code",
   "execution_count": 8,
   "metadata": {
    "colab": {
     "base_uri": "https://localhost:8080/",
     "height": 552
    },
    "executionInfo": {
     "elapsed": 3606,
     "status": "ok",
     "timestamp": 1731004996547,
     "user": {
      "displayName": "taravat part",
      "userId": "08819793569330919526"
     },
     "user_tz": -60
    },
    "id": "4s0ghsp48oCO",
    "outputId": "60497ab2-7f70-4ce9-d942-46efea189b53"
   },
   "outputs": [
    {
     "data": {
      "image/png": "[encoded data removed]",
      "text/plain": [
       "<Figure size 1152x576 with 8 Axes>"
      ]
     },
     "metadata": {
      "needs_background": "light"
     },
     "output_type": "display_data"
    }
   ],
   "source": [
    "X = dataset.iloc[:,: - 1]\n",
    "\n",
    "# Set up the subplot grid (4 columns, 2 rows)\n",
    "fig, axes = plt.subplots(2, 4, figsize=(16, 8))\n",
    "\n",
    "# Flatten the axes array to make indexing easier\n",
    "axes = axes.flatten()\n",
    "\n",
    "# Plot a boxplot for each feature in the dataset (excluding the last column)\n",
    "for i, column in enumerate(X.columns):\n",
    "    sns.boxplot(x=X[column], ax=axes[i])\n",
    "    axes[i].set_title(f'Boxplot for {column}')\n",
    "\n",
    "# Adjust layout\n",
    "plt.tight_layout()\n",
    "plt.show()"
   ]
  },
  {
   "cell_type": "markdown",
   "metadata": {
    "id": "8I69tECxhuiO"
   },
   "source": [
    "This is how we can remove the outliers:\n",
    "first  \n",
    "\n",
    "1.   calculate the Q1 (25th percentile) and Q3 (75th percentile) for each column.\n",
    "2.   compute the Interquartile Range (IQR). IQR (Interquartile Range) is the difference between the 75th percentile (Q3) and the 25th percentile (Q1) of a dataset, representing the range where the middle 50% of the data lies.\n",
    "\n",
    "3.   Using the IQR, define lower and upper bounds beyond which data points are considered outliers.\n",
    "\n",
    "\n",
    "\n"
   ]
  },
  {
   "cell_type": "code",
   "execution_count": 9,
   "metadata": {
    "executionInfo": {
     "elapsed": 29,
     "status": "ok",
     "timestamp": 1731004996548,
     "user": {
      "displayName": "taravat part",
      "userId": "08819793569330919526"
     },
     "user_tz": -60
    },
    "id": "BX_aUTb5Ypbz"
   },
   "outputs": [
    {
     "name": "stdout",
     "output_type": "stream",
     "text": [
      "Column 'Pregnancies':\n",
      "  Q1 (25th percentile): 1.0\n",
      "  Q3 (75th percentile): 6.0\n",
      "  IQR: 5.0\n",
      "  Lower Bound: -6.5, Upper Bound: 13.5\n",
      "  Defining the interval [-6.5, 13.5] for column 'Pregnancies'.\n",
      "Column 'Glucose':\n",
      "  Q1 (25th percentile): 99.0\n",
      "  Q3 (75th percentile): 140.0\n",
      "  IQR: 41.0\n",
      "  Lower Bound: 37.5, Upper Bound: 201.5\n",
      "  Defining the interval [37.5, 201.5] for column 'Glucose'.\n",
      "Column 'BloodPressure':\n",
      "  Q1 (25th percentile): 62.0\n",
      "  Q3 (75th percentile): 80.0\n",
      "  IQR: 18.0\n",
      "  Lower Bound: 35.0, Upper Bound: 107.0\n",
      "  Defining the interval [35.0, 107.0] for column 'BloodPressure'.\n",
      "Column 'SkinThickness':\n",
      "  Q1 (25th percentile): 0.0\n",
      "  Q3 (75th percentile): 32.0\n",
      "  IQR: 32.0\n",
      "  Lower Bound: -48.0, Upper Bound: 80.0\n",
      "  Defining the interval [-48.0, 80.0] for column 'SkinThickness'.\n",
      "Column 'Insulin':\n",
      "  Q1 (25th percentile): 0.0\n",
      "  Q3 (75th percentile): 128.0\n",
      "  IQR: 128.0\n",
      "  Lower Bound: -192.0, Upper Bound: 320.0\n",
      "  Defining the interval [-192.0, 320.0] for column 'Insulin'.\n",
      "Column 'BMI':\n",
      "  Q1 (25th percentile): 27.3\n",
      "  Q3 (75th percentile): 36.5\n",
      "  IQR: 9.2\n",
      "  Lower Bound: 13.500000000000002, Upper Bound: 50.3\n",
      "  Defining the interval [13.500000000000002, 50.3] for column 'BMI'.\n",
      "Column 'DiabetesPedigreeFunction':\n",
      "  Q1 (25th percentile): 0.244\n",
      "  Q3 (75th percentile): 0.626\n",
      "  IQR: 0.382\n",
      "  Lower Bound: -0.32899999999999996, Upper Bound: 1.1989999999999998\n",
      "  Defining the interval [-0.32899999999999996, 1.1989999999999998] for column 'DiabetesPedigreeFunction'.\n",
      "Column 'Age':\n",
      "  Q1 (25th percentile): 24.0\n",
      "  Q3 (75th percentile): 41.0\n",
      "  IQR: 17.0\n",
      "  Lower Bound: -1.5, Upper Bound: 66.5\n",
      "  Defining the interval [-1.5, 66.5] for column 'Age'.\n",
      "<class 'pandas.core.frame.DataFrame'>\n",
      "Int64Index: 630 entries, 0 to 767\n",
      "Data columns (total 9 columns):\n",
      " #   Column                    Non-Null Count  Dtype  \n",
      "---  ------                    --------------  -----  \n",
      " 0   Pregnancies               630 non-null    int64  \n",
      " 1   Glucose                   630 non-null    int64  \n",
      " 2   BloodPressure             630 non-null    int64  \n",
      " 3   SkinThickness             630 non-null    float64\n",
      " 4   Insulin                   630 non-null    int64  \n",
      " 5   BMI                       630 non-null    float64\n",
      " 6   DiabetesPedigreeFunction  630 non-null    float64\n",
      " 7   Age                       630 non-null    int64  \n",
      " 8   Outcome                   630 non-null    int64  \n",
      "dtypes: float64(3), int64(6)\n",
      "memory usage: 49.2 KB\n"
     ]
    },
    {
     "data": {
      "image/png": "[encoded data removed]",
      "text/plain": [
       "<Figure size 1152x576 with 8 Axes>"
      ]
     },
     "metadata": {
      "needs_background": "light"
     },
     "output_type": "display_data"
    }
   ],
   "source": [
    "# Calculate Q1 and Q2 for each column\n",
    "#Calculate the lower and upper bounds for each column\n",
    "\n",
    "\n",
    "#Keep only rows where all columns are within bounds\n",
    "for i, column in enumerate(X.columns):\n",
    "    # Calculate Q1 and Q3 for each column in X\n",
    "    Q1 = X[column].quantile(0.25)\n",
    "    Q3 = X[column].quantile(0.75)\n",
    "    \n",
    "    # Calculate IQR for the current column\n",
    "    IQR = Q3 - Q1\n",
    "    \n",
    "    # Calculate lower and upper bounds for outliers\n",
    "    lower_bound = Q1 - 1.5 * IQR\n",
    "    upper_bound = Q3 + 1.5 * IQR\n",
    "    \n",
    "    # Print information about Q1, Q3, and IQR for each column\n",
    "    print(f\"Column '{column}':\")\n",
    "    print(f\"  Q1 (25th percentile): {Q1}\")\n",
    "    print(f\"  Q3 (75th percentile): {Q3}\")\n",
    "    print(f\"  IQR: {IQR}\")\n",
    "    print(f\"  Lower Bound: {lower_bound}, Upper Bound: {upper_bound}\")\n",
    "    print(f\"  Defining the interval [{lower_bound}, {upper_bound}] for column '{column}'.\")\n",
    "    \n",
    "    # Filter dataset to keep only the rows where values in the current column are within bounds\n",
    "    #X = X[(X[column] >= lower_bound) & (X[column] <= upper_bound)]\n",
    "    dataset = dataset[(dataset[column] >= lower_bound) & (dataset[column] <= upper_bound)]\n",
    "\n",
    "dataset.info()\n",
    "X = dataset.iloc[:,: - 1]\n",
    "\n",
    "# Set up the subplot grid (4 columns, 2 rows)\n",
    "fig, axes = plt.subplots(2, 4, figsize=(16, 8))\n",
    "\n",
    "# Flatten the axes array to make indexing easier\n",
    "axes = axes.flatten()\n",
    "\n",
    "# Plot a boxplot for each feature in the dataset (excluding the last column)\n",
    "for i, column in enumerate(X.columns):\n",
    "    sns.boxplot(x=X[column], ax=axes[i])\n",
    "    axes[i].set_title(f'Boxplot for {column}')\n",
    "\n",
    "# Adjust layout\n",
    "plt.tight_layout()\n",
    "plt.show()\n",
    "    "
   ]
  },
  {
   "cell_type": "markdown",
   "metadata": {
    "id": "QhYyaNhkkLTa"
   },
   "source": [
    "## Standardization\n",
    "Standardize the features values to have a mean of zero and standard deviation of 1. This ensures that all features contribute equally to the model"
   ]
  },
  {
   "cell_type": "code",
   "execution_count": 26,
   "metadata": {
    "executionInfo": {
     "elapsed": 29,
     "status": "ok",
     "timestamp": 1731004996549,
     "user": {
      "displayName": "taravat part",
      "userId": "08819793569330919526"
     },
     "user_tz": -60
    },
    "id": "EvswhmzM1yrd"
   },
   "outputs": [
    {
     "name": "stdout",
     "output_type": "stream",
     "text": [
      "<class 'pandas.core.frame.DataFrame'>\n",
      "Int64Index: 630 entries, 0 to 767\n",
      "Data columns (total 8 columns):\n",
      " #   Column                    Non-Null Count  Dtype  \n",
      "---  ------                    --------------  -----  \n",
      " 0   Pregnancies               630 non-null    int64  \n",
      " 1   Glucose                   630 non-null    int64  \n",
      " 2   BloodPressure             630 non-null    int64  \n",
      " 3   SkinThickness             630 non-null    float64\n",
      " 4   Insulin                   630 non-null    int64  \n",
      " 5   BMI                       630 non-null    float64\n",
      " 6   DiabetesPedigreeFunction  630 non-null    float64\n",
      " 7   Age                       630 non-null    int64  \n",
      "dtypes: float64(3), int64(5)\n",
      "memory usage: 64.3 KB\n"
     ]
    },
    {
     "data": {
      "text/html": [
       "<div>\n",
       "<style scoped>\n",
       "    .dataframe tbody tr th:only-of-type {\n",
       "        vertical-align: middle;\n",
       "    }\n",
       "\n",
       "    .dataframe tbody tr th {\n",
       "        vertical-align: top;\n",
       "    }\n",
       "\n",
       "    .dataframe thead th {\n",
       "        text-align: right;\n",
       "    }\n",
       "</style>\n",
       "<table border=\"1\" class=\"dataframe\">\n",
       "  <thead>\n",
       "    <tr style=\"text-align: right;\">\n",
       "      <th></th>\n",
       "      <th>Pregnancies</th>\n",
       "      <th>Glucose</th>\n",
       "      <th>BloodPressure</th>\n",
       "      <th>SkinThickness</th>\n",
       "      <th>Insulin</th>\n",
       "      <th>BMI</th>\n",
       "      <th>DiabetesPedigreeFunction</th>\n",
       "      <th>Age</th>\n",
       "    </tr>\n",
       "  </thead>\n",
       "  <tbody>\n",
       "    <tr>\n",
       "      <th>0</th>\n",
       "      <td>6</td>\n",
       "      <td>148</td>\n",
       "      <td>72</td>\n",
       "      <td>35.0</td>\n",
       "      <td>0</td>\n",
       "      <td>33.6</td>\n",
       "      <td>0.627</td>\n",
       "      <td>50</td>\n",
       "    </tr>\n",
       "    <tr>\n",
       "      <th>1</th>\n",
       "      <td>1</td>\n",
       "      <td>85</td>\n",
       "      <td>66</td>\n",
       "      <td>29.0</td>\n",
       "      <td>0</td>\n",
       "      <td>26.6</td>\n",
       "      <td>0.351</td>\n",
       "      <td>31</td>\n",
       "    </tr>\n",
       "    <tr>\n",
       "      <th>2</th>\n",
       "      <td>8</td>\n",
       "      <td>183</td>\n",
       "      <td>64</td>\n",
       "      <td>0.0</td>\n",
       "      <td>0</td>\n",
       "      <td>23.3</td>\n",
       "      <td>0.672</td>\n",
       "      <td>32</td>\n",
       "    </tr>\n",
       "    <tr>\n",
       "      <th>3</th>\n",
       "      <td>1</td>\n",
       "      <td>89</td>\n",
       "      <td>66</td>\n",
       "      <td>23.0</td>\n",
       "      <td>94</td>\n",
       "      <td>28.1</td>\n",
       "      <td>0.167</td>\n",
       "      <td>21</td>\n",
       "    </tr>\n",
       "    <tr>\n",
       "      <th>5</th>\n",
       "      <td>5</td>\n",
       "      <td>116</td>\n",
       "      <td>74</td>\n",
       "      <td>0.0</td>\n",
       "      <td>0</td>\n",
       "      <td>25.6</td>\n",
       "      <td>0.201</td>\n",
       "      <td>30</td>\n",
       "    </tr>\n",
       "  </tbody>\n",
       "</table>\n",
       "</div>"
      ],
      "text/plain": [
       "   Pregnancies  Glucose  BloodPressure  SkinThickness  Insulin   BMI  \\\n",
       "0            6      148             72           35.0        0  33.6   \n",
       "1            1       85             66           29.0        0  26.6   \n",
       "2            8      183             64            0.0        0  23.3   \n",
       "3            1       89             66           23.0       94  28.1   \n",
       "5            5      116             74            0.0        0  25.6   \n",
       "\n",
       "   DiabetesPedigreeFunction  Age  \n",
       "0                     0.627   50  \n",
       "1                     0.351   31  \n",
       "2                     0.672   32  \n",
       "3                     0.167   21  \n",
       "5                     0.201   30  "
      ]
     },
     "execution_count": 26,
     "metadata": {},
     "output_type": "execute_result"
    }
   ],
   "source": [
    "X = dataset.iloc[:,:-1]\n",
    "Y = dataset.iloc[:,-1]\n",
    "\n",
    "X.info()\n",
    "X.head()"
   ]
  },
  {
   "cell_type": "code",
   "execution_count": 31,
   "metadata": {
    "executionInfo": {
     "elapsed": 456,
     "status": "ok",
     "timestamp": 1731004996978,
     "user": {
      "displayName": "taravat part",
      "userId": "08819793569330919526"
     },
     "user_tz": -60
    },
    "id": "jQN4eMv3kNLX"
   },
   "outputs": [
    {
     "name": "stdout",
     "output_type": "stream",
     "text": [
      "Pregnancies                 120\n",
      "Glucose                     120\n",
      "BloodPressure               120\n",
      "SkinThickness               120\n",
      "Insulin                     120\n",
      "BMI                         120\n",
      "DiabetesPedigreeFunction    120\n",
      "Age                         120\n",
      "Outcome                     120\n",
      "dtype: int64\n",
      "<class 'pandas.core.frame.DataFrame'>\n",
      "Int64Index: 750 entries, 0 to 767\n",
      "Data columns (total 9 columns):\n",
      " #   Column                    Non-Null Count  Dtype  \n",
      "---  ------                    --------------  -----  \n",
      " 0   Pregnancies               630 non-null    float64\n",
      " 1   Glucose                   630 non-null    float64\n",
      " 2   BloodPressure             630 non-null    float64\n",
      " 3   SkinThickness             630 non-null    float64\n",
      " 4   Insulin                   630 non-null    float64\n",
      " 5   BMI                       630 non-null    float64\n",
      " 6   DiabetesPedigreeFunction  630 non-null    float64\n",
      " 7   Age                       630 non-null    float64\n",
      " 8   Outcome                   630 non-null    float64\n",
      "dtypes: float64(9)\n",
      "memory usage: 58.6 KB\n"
     ]
    }
   ],
   "source": [
    "from sklearn.preprocessing import StandardScaler\n",
    "\n",
    "# Standardize the feature values (X)\n",
    "scaler = StandardScaler()\n",
    "\n",
    "# Fit the scaler to the feature data and transform the features\n",
    "X_scaled = scaler.fit_transform(X)  \n",
    "\n",
    "# Convert the scaled features back to a DataFrame, keeping the original column names\n",
    "X_scaled_df = pd.DataFrame(X_scaled, columns=X.columns)\n",
    "\n",
    "# If you still want to include Y in the dataset, concatenate it\n",
    "dataset_scaled = pd.concat([X_scaled_df, Y], axis=1)\n",
    "\n",
    "# Print the count of NaN values in each column after scaling\n",
    "print(dataset_scaled.isna().sum())\n",
    "\n",
    "dataset_scaled.info()\n"
   ]
  },
  {
   "cell_type": "code",
   "execution_count": 33,
   "metadata": {},
   "outputs": [
    {
     "name": "stdout",
     "output_type": "stream",
     "text": [
      "Missing values in the dataset after scaling:\n",
      "Pregnancies                 0\n",
      "Glucose                     0\n",
      "BloodPressure               0\n",
      "SkinThickness               0\n",
      "Insulin                     0\n",
      "BMI                         0\n",
      "DiabetesPedigreeFunction    0\n",
      "Age                         0\n",
      "Outcome                     0\n",
      "dtype: int64\n",
      "Missing values in the dataset after scaling:\n",
      "Pregnancies                 0\n",
      "Glucose                     0\n",
      "BloodPressure               0\n",
      "SkinThickness               0\n",
      "Insulin                     0\n",
      "BMI                         0\n",
      "DiabetesPedigreeFunction    0\n",
      "Age                         0\n",
      "Outcome                     0\n",
      "dtype: int64\n"
     ]
    }
   ],
   "source": [
    "# Standardize the feature values (X)\n",
    "scaler = StandardScaler()\n",
    "\n",
    "# Fit the scaler to the feature data and transform the features\n",
    "X_scaled = scaler.fit_transform(X)  # X is your feature matrix\n",
    "\n",
    "# Convert the scaled features back to a DataFrame, keeping the original column names\n",
    "X_scaled_df = pd.DataFrame(X_scaled, columns=X.columns)\n",
    "\n",
    "# If you still want to include Y in the dataset, concatenate it\n",
    "dataset_scaled = pd.concat([X_scaled_df, Y], axis=1)  # Y is your target variable\n",
    "\n",
    "print(\"Missing values in the dataset after scaling:\")\n",
    "print(dataset_cleaned.isna().sum())\n",
    "\n",
    "dataset_scaled_cleaned = dataset_scaled.dropna()\n",
    "\n",
    "\n",
    "# Print the count of NaN values in each column after scaling\n",
    "print(\"Missing values in the dataset after scaling:\")\n",
    "print(dataset_scaled_cleaned.isna().sum())"
   ]
  },
  {
   "cell_type": "markdown",
   "metadata": {
    "id": "f7DJMqHjkp74"
   },
   "source": [
    "## Split the data into train and test"
   ]
  },
  {
   "cell_type": "code",
   "execution_count": 34,
   "metadata": {
    "executionInfo": {
     "elapsed": 39,
     "status": "ok",
     "timestamp": 1731004996979,
     "user": {
      "displayName": "taravat part",
      "userId": "08819793569330919526"
     },
     "user_tz": -60
    },
    "id": "4VmwCNoUktVn"
   },
   "outputs": [],
   "source": [
    "from sklearn.model_selection import train_test_split\n",
    "\n",
    "# Split the dataset into training and testing sets.\n",
    "# Use 80% of the data for training and 20% for testing.\n",
    "\n",
    "X = dataset_scaled_cleaned.iloc[:, :-1]  # Features (excluding the target column)\n",
    "Y = dataset_scaled_cleaned.iloc[:, -1]   # Target variable (usually the last column)\n",
    "\n",
    "# Split the data into training and testing sets (80% train, 20% test)\n",
    "X_train, X_test, Y_train, Y_test = train_test_split(X, Y, test_size=0.2, train_size=0.8)\n",
    "\n",
    "X_train_df = pd.DataFrame(X_train, columns=X.columns)\n",
    "data_train = pd.concat([X_train_df, Y_train], axis=1)\n",
    "\n",
    "X_test_df = pd.DataFrame(X_test, columns=X.columns)\n",
    "data_test = pd.concat([X_test_df, Y_test], axis=1)\n",
    "\n"
   ]
  },
  {
   "cell_type": "markdown",
   "metadata": {
    "id": "aNVvaevtk1Jc"
   },
   "source": [
    "# 3.2. Train a linear svm and report its accuracy"
   ]
  },
  {
   "cell_type": "code",
   "execution_count": 35,
   "metadata": {
    "colab": {
     "base_uri": "https://localhost:8080/"
    },
    "executionInfo": {
     "elapsed": 33,
     "status": "ok",
     "timestamp": 1731004996979,
     "user": {
      "displayName": "taravat part",
      "userId": "08819793569330919526"
     },
     "user_tz": -60
    },
    "id": "ptXcxK_ck3Lv",
    "outputId": "c17bf803-7ef8-4b12-c35b-959f0837c8fe"
   },
   "outputs": [
    {
     "name": "stdout",
     "output_type": "stream",
     "text": [
      "Training Accuracy: 0.6936274509803921\n",
      "Test Accuracy: 0.7156862745098039\n"
     ]
    }
   ],
   "source": [
    "from sklearn import svm\n",
    "from sklearn.metrics import accuracy_score\n",
    "\n",
    "#Fit a linear svm on train data\n",
    "model = svm.SVC(kernel='linear')\n",
    "# Fit the model on the training data\n",
    "model.fit(X_train, Y_train)\n",
    "\n",
    "# TODO: Report the accuracy on the training data\n",
    "train_predictions = model.predict(X_train)  # Predictions on the training data\n",
    "train_accuracy = accuracy_score(Y_train, train_predictions)  # Accuracy on the training data\n",
    "\n",
    "print(\"Training Accuracy:\", train_accuracy)\n",
    "\n",
    "# TODO: Report the accuracy on the test data\n",
    "test_predictions = model.predict(X_test)  # Predictions on the test data\n",
    "test_accuracy = accuracy_score(Y_test, test_predictions)  # Accuracy on the test data\n",
    "\n",
    "print(\"Test Accuracy:\", test_accuracy)\n"
   ]
  },
  {
   "cell_type": "markdown",
   "metadata": {
    "id": "NT5Y25YBlCnE"
   },
   "source": [
    "# 3.3. Use nonlinear kernels and report model accuracy\n"
   ]
  },
  {
   "cell_type": "code",
   "execution_count": 36,
   "metadata": {
    "colab": {
     "base_uri": "https://localhost:8080/"
    },
    "executionInfo": {
     "elapsed": 374,
     "status": "ok",
     "timestamp": 1731005149835,
     "user": {
      "displayName": "taravat part",
      "userId": "08819793569330919526"
     },
     "user_tz": -60
    },
    "id": "w3AfTTSflEhr",
    "outputId": "35df8c4b-6ef1-48c2-a4eb-fb30de586fa9"
   },
   "outputs": [
    {
     "name": "stdout",
     "output_type": "stream",
     "text": [
      "Training Accuracy: 0.8774509803921569\n",
      "Test Accuracy: 0.5294117647058824\n"
     ]
    }
   ],
   "source": [
    "from sklearn import svm\n",
    "from sklearn.metrics import accuracy_score\n",
    "\n",
    "#Fit a linear svm on train data\n",
    "model = svm.NuSVC(gamma=\"auto\")\n",
    "# Fit the model on the training data\n",
    "model.fit(X_train, Y_train)\n",
    "\n",
    "# TODO: Report the accuracy on the training data\n",
    "train_predictions = model.predict(X_train)  # Predictions on the training data\n",
    "train_accuracy = accuracy_score(Y_train, train_predictions)  # Accuracy on the training data\n",
    "\n",
    "print(\"Training Accuracy:\", train_accuracy)\n",
    "\n",
    "# TODO: Report the accuracy on the test data\n",
    "test_predictions = model.predict(X_test)  # Predictions on the test data\n",
    "test_accuracy = accuracy_score(Y_test, test_predictions)  # Accuracy on the test data\n",
    "\n",
    "print(\"Test Accuracy:\", test_accuracy)"
   ]
  },
  {
   "cell_type": "markdown",
   "metadata": {
    "id": "MnnZejiD9Ll1"
   },
   "source": [
    "Question: Did nonlinear kernels improve accuracy?\n",
    "No it did not, however, for me it also seems strange, that I have to cut off data points after transformation ?"
   ]
  },
  {
   "cell_type": "markdown",
   "metadata": {
    "id": "4dfJn0k2Yi0k"
   },
   "source": [
    "# 3.4. **Next Mile:** Find the best Hyperparameters automatically\n",
    "you can use Grid Search in scikit learn to explore different hyperparameter combinations and find the best ones. Let's implemenet it step by step!"
   ]
  },
  {
   "cell_type": "code",
   "execution_count": 38,
   "metadata": {
    "id": "NG0ndNCFZD1Y"
   },
   "outputs": [],
   "source": [
    "from sklearn.model_selection import GridSearchCV\n",
    "\n",
    "param_grid = {\n",
    "    'C': [0.1, 1, 10, 100],\n",
    "    'kernel': ['rbf', 'linear', 'poly', 'sigmoid']\n",
    "}\n"
   ]
  },
  {
   "cell_type": "code",
   "execution_count": 43,
   "metadata": {
    "id": "ZwEkaQ5_ZkUS"
   },
   "outputs": [
    {
     "name": "stdout",
     "output_type": "stream",
     "text": [
      "Best parameters: {'C': 0.1, 'kernel': 'rbf'}\n",
      "Best cross-validation score: 0.6936163806082505\n",
      "Training Accuracy: 0.6936274509803921\n",
      "Test Accuracy: 0.7156862745098039\n"
     ]
    }
   ],
   "source": [
    "# TODO: Initialize the SVM classifier\n",
    "svc = svm.SVC()\n",
    "\n",
    "# TODO: Initialize GridSearchCV with cross-validation\n",
    "clf = GridSearchCV(svc, param_grid)\n",
    "\n",
    "# TODO: Fit grid search\n",
    "clf.fit(X_train, Y_train)\n",
    "\n",
    "# TODO: Print the best parameters and best score\n",
    "print(\"Best parameters:\", clf.best_params_)  # Print the best combination of hyperparameters\n",
    "print(\"Best cross-validation score:\", clf.best_score_)  # Print the best cross-validation score\n",
    "\n",
    "# TODO: Use the best estimator to make predictions\n",
    "train_predictions = clf.predict(X_train)  # Predictions on the training data\n",
    "test_predictions = clf.predict(X_test)\n",
    "\n",
    "# TODO: Report the Accuracy on Train data\n",
    "train_accuracy = accuracy_score(Y_train, train_predictions)  # Accuracy on the training data\n",
    "print(\"Training Accuracy:\", train_accuracy)\n",
    "\n",
    "# TODO: Report the Accuracy on Test data\n",
    "test_accuracy = accuracy_score(Y_test, test_predictions)  # Accuracy on the test data\n",
    "print(\"Test Accuracy:\", test_accuracy)"
   ]
  },
  {
   "cell_type": "code",
   "execution_count": null,
   "metadata": {},
   "outputs": [],
   "source": []
  }
 ],
 "metadata": {
  "colab": {
   "authorship_tag": "ABX9TyPyCRhYJVwll1Ang+jb8KBz",
   "mount_file_id": "1_4mrYrDk03-eNehds6SArKwjarmeaBam",
   "provenance": []
  },
  "kernelspec": {
   "display_name": "base",
   "language": "python",
   "name": "python3"
  },
  "language_info": {
   "codemirror_mode": {
    "name": "ipython",
    "version": 3
   },
   "file_extension": ".py",
   "mimetype": "text/x-python",
   "name": "python",
   "nbconvert_exporter": "python",
   "pygments_lexer": "ipython3",
   "version": "3.8.5"
  }
 },
 "nbformat": 4,
 "nbformat_minor": 0
}
